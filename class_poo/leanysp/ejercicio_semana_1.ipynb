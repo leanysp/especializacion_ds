{
 "cells": [
  {
   "cell_type": "code",
   "execution_count": 2,
   "metadata": {},
   "outputs": [
    {
     "name": "stdout",
     "output_type": "stream",
     "text": [
      "Hola Lea\n",
      "Eres un niño\n"
     ]
    }
   ],
   "source": [
    "print(\"Hola Lea\")\n",
    "\n",
    "edad: int = 10\n",
    "\n",
    "if edad<=12:\n",
    "    print(\"Eres un niño\")\n",
    "elif edad>12 and edad<=18:\n",
    "    print(\"Eres adolescente\")\n",
    "else:\n",
    "    print(\"Eres ancianito\")"
   ]
  },
  {
   "cell_type": "markdown",
   "metadata": {},
   "source": [
    "Ejercicio abstracción"
   ]
  },
  {
   "cell_type": "code",
   "execution_count": 7,
   "metadata": {},
   "outputs": [],
   "source": [
    "class Moto:\n",
    "    def __init__(self, velocidad: int  ) -> None:\n",
    "        self.velocidad: int = velocidad\n",
    "\n",
    "    def obtener_cilindraje(self) -> None:\n",
    "        if self.velocidad > 250:\n",
    "         print(\"Tu moto es de alto cilindraje \")\n",
    "        else:\n",
    "         print(\"Tu moto es de bajo cilindraje \")\n",
    "\n",
    "    def __str__(self) -> str:\n",
    "        return f\"{self.velocidad} km/h\""
   ]
  },
  {
   "cell_type": "code",
   "execution_count": 8,
   "metadata": {},
   "outputs": [
    {
     "name": "stdout",
     "output_type": "stream",
     "text": [
      "100 km/h\n",
      "Tu moto es de bajo cilindraje \n"
     ]
    }
   ],
   "source": [
    "moto = Moto(velocidad = 100)\n",
    "print(moto)\n",
    "moto.obtener_cilindraje()"
   ]
  }
 ],
 "metadata": {
  "kernelspec": {
   "display_name": "Python 3 (ipykernel)",
   "language": "python",
   "name": "python3"
  },
  "language_info": {
   "codemirror_mode": {
    "name": "ipython",
    "version": 3
   },
   "file_extension": ".py",
   "mimetype": "text/x-python",
   "name": "python",
   "nbconvert_exporter": "python",
   "pygments_lexer": "ipython3",
   "version": "3.12.1"
  }
 },
 "nbformat": 4,
 "nbformat_minor": 2
}
