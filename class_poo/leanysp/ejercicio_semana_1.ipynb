{
 "cells": [
  {
   "cell_type": "code",
   "execution_count": 2,
   "metadata": {},
   "outputs": [
    {
     "name": "stdout",
     "output_type": "stream",
     "text": [
      "Hola Lea\n",
      "Eres un niño\n"
     ]
    }
   ],
   "source": [
    "print(\"Hola Lea\")\n",
    "\n",
    "edad: int = 10\n",
    "\n",
    "if edad<=12:\n",
    "    print(\"Eres un niño\")\n",
    "elif edad>12 and edad<=18:\n",
    "    print(\"Eres adolescente\")\n",
    "else:\n",
    "    print(\"Eres ancianito\")"
   ]
  },
  {
   "cell_type": "markdown",
   "metadata": {},
   "source": [
    "Ejercicio abstracción"
   ]
  },
  {
   "cell_type": "code",
   "execution_count": 6,
   "metadata": {},
   "outputs": [],
   "source": [
    "class Moto:\n",
    "    def __init__(self, velocidad_maxima: int  ) -> None:\n",
    "        self.velocidad_maxima: int = velocidad_maxima\n",
    "\n",
    "    def obtener_tipo_cilindraje(self) -> None:\n",
    "        if self.velocidad_maxima > 250:\n",
    "         print(\"Tu moto es de alto cilindraje \")\n",
    "        else:\n",
    "         print(\"Tu moto es de bajo cilindraje \")\n",
    "\n",
    "    def __str__(self) -> str:\n",
    "        return f\"Velocidad Máxima {self.velocidad_maxima} km/h\""
   ]
  },
  {
   "cell_type": "code",
   "execution_count": 8,
   "metadata": {},
   "outputs": [
    {
     "name": "stdout",
     "output_type": "stream",
     "text": [
      "Velocidad Máxima 100 km/h\n",
      "Tu moto es de bajo cilindraje \n"
     ]
    }
   ],
   "source": [
    "moto = Moto(velocidad_maxima = 100)\n",
    "print(moto)\n",
    "moto.obtener_tipo_cilindraje()"
   ]
  }
 ],
 "metadata": {
  "kernelspec": {
   "display_name": "Python 3 (ipykernel)",
   "language": "python",
   "name": "python3"
  }
 },
 "nbformat": 4,
 "nbformat_minor": 2
}
