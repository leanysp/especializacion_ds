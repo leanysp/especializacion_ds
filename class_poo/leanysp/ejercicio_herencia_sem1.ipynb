{
 "cells": [
  {
   "cell_type": "markdown",
   "metadata": {},
   "source": [
    "Ejercicio Herencia:\n",
    "Clase padre llamada Electrodomestico con dos atributos y dos funciones encender(encende o apaga electrodomestico)y obtener_info para obtener la información del electrodomestico. Dos clases hijas Televisor y Lavadora que heredan de la clase principal y cada una tiene un atributo y un metodo adicional diferentes al de la clase padre."
   ]
  },
  {
   "cell_type": "code",
   "execution_count": 7,
   "metadata": {},
   "outputs": [],
   "source": [
    "class Electrodomestico:\n",
    "    def __init__(self, tipo: str, marca: str) -> None:\n",
    "        self.tipo: str = tipo\n",
    "        self.marca: str = marca\n",
    "\n",
    "    def encender(self, encendido:bool) -> None:\n",
    "        if encendido:\n",
    "            print(\"Electrodomestico Encendido\")\n",
    "        else:\n",
    "            print(\"Electrodomestico Apagado\")\n",
    "\n",
    "    def obtener_info(self) -> str:\n",
    "        return f\"Tipo:{self.tipo}, Marca:{self.marca}\"\n",
    "\n",
    "\n",
    "class Televisor(Electrodomestico):\n",
    "    def __init__(self, tipo: str, marca: str, tamanio: str):\n",
    "        super().__init__(tipo=tipo, marca=marca)\n",
    "        self.tamanio: str = tamanio\n",
    "\n",
    "    def cambiarCanal(self) ->None:\n",
    "        print(\"En el televisor se muestra el canal obtenido\")\n",
    "\n",
    "    def obtener_info(self) -> str:\n",
    "        return f\"{super().obtener_info()}, Tamaño:{self.tamanio}\"\n",
    "\n",
    "class Lavadora(Electrodomestico):\n",
    "    def __init__(self, tipo:str, marca:str, tipo_carga:str) -> None:\n",
    "        super().__init__(tipo=tipo, marca=marca)\n",
    "        self.tipo_carga:str= tipo_carga\n",
    "\n",
    "    def lavar(self, encendido: bool) -> None:\n",
    "        if super().encender(encendido):\n",
    "            print(\"Inicia lavado\")\n",
    "        else:\n",
    "            print(\"Encienda la lavadora para iniciar lavado\")\n",
    "\n",
    "    def obtener_info(self) -> str:\n",
    "        return f\"{super().obtener_info()}, Tipo de carga:{self.tipo_carga}\""
   ]
  },
  {
   "cell_type": "code",
   "execution_count": 8,
   "metadata": {},
   "outputs": [
    {
     "name": "stdout",
     "output_type": "stream",
     "text": [
      "Electrodomestico Encendido\n",
      "Tipo:Blanca, Marca:Samsung, Tamaño:50\n",
      "Electrodomestico Encendido\n",
      "Tipo:Blanca, Marca:LG, Tipo de carga:Frontal\n"
     ]
    }
   ],
   "source": [
    "televisor: Televisor = Televisor(tipo = \"Blanca\", marca= \"Samsung\", tamanio= \"50\")\n",
    "lavadora: Lavadora = Lavadora(tipo = \"Blanca\", marca= \"LG\", tipo_carga= \"Frontal\")\n",
    "\n",
    "electrodomesticos: list[Electrodomestico] = [televisor, lavadora]\n",
    "\n",
    "for e in electrodomesticos:\n",
    "    e.encender(encendido=True)\n",
    "    print(e.obtener_info())"
   ]
  },
  {
   "cell_type": "code",
   "execution_count": 9,
   "metadata": {},
   "outputs": [
    {
     "name": "stdout",
     "output_type": "stream",
     "text": [
      "Electrodomestico Apagado\n",
      "Encienda la lavadora para iniciar lavado\n",
      "En el televisor se muestra el canal obtenido\n"
     ]
    }
   ],
   "source": [
    "lavadora.lavar(False)\n",
    "televisor.cambiarCanal()"
   ]
  }
 ],
 "metadata": {
  "kernelspec": {
   "display_name": "Python 3 (ipykernel)",
   "language": "python",
   "name": "python3"
  },
  "language_info": {
   "codemirror_mode": {
    "name": "ipython",
    "version": 3
   },
   "file_extension": ".py",
   "mimetype": "text/x-python",
   "name": "python",
   "nbconvert_exporter": "python",
   "pygments_lexer": "ipython3",
   "version": "3.12.1"
  }
 },
 "nbformat": 4,
 "nbformat_minor": 2
}
