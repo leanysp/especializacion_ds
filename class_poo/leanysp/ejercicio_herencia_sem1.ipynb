{
 "cells": [
  {
   "cell_type": "markdown",
   "metadata": {},
   "source": [
    "Ejercicio Herencia"
   ]
  },
  {
   "cell_type": "code",
   "execution_count": 20,
   "metadata": {},
   "outputs": [
    {
     "ename": "",
     "evalue": "",
     "output_type": "error",
     "traceback": [
      "\u001b[1;31mNo se pudo conectar con el servidor remoto de Jupyter Server 'https://jupyter-server-4wj569w4645hqj7x-8888.app.github.dev/'. Compruebe que el servidor se está ejecutando y es accesible."
     ]
    }
   ],
   "source": [
    "class Electrodomestico:\n",
    "    def __init__(self, tipo: str, marca: str) -> None:\n",
    "        self.tipo: str = tipo\n",
    "        self.marca: str = marca\n",
    "\n",
    "    def encender(self, encendido:bool) -> None:\n",
    "        if encendido:\n",
    "            return f\"Encendido\"\n",
    "        else:\n",
    "            return f\"Apagado\"\n",
    "\n",
    "    def obtener_info(self) -> str:\n",
    "        return f\"Tipo:{self.tipo} Marca:{self.marca}\"\n",
    "\n",
    "\n",
    "class Televisor(Electrodomestico):\n",
    "    def __init__(self, tipo: str, marca: str, tamanio: str):\n",
    "        super().__init__(tipo=tipo, marca=marca)\n",
    "        self.tamanio: str = tamanio\n",
    "\n",
    "    def cambiarCanal(self) ->None:\n",
    "        print(\"se muestra canal obtenido\")\n",
    "\n",
    "class Lavadora(Electrodomestico):\n",
    "    def __init__(self, tipo:str, marca:str, tipo_carga:str) -> None:\n",
    "        super().__init__(tipo=tipo, marca=marca)\n",
    "        self.tipo_carga:str= tipo_carga\n",
    "\n",
    "    def lavar(self) -> None:\n",
    "        if super().encender(encendido):\n",
    "            print(\"Inicia lavado\")\n",
    "        else:\n",
    "            print(\"Encienda la lavadora para iniciar lavado\")\n"
   ]
  },
  {
   "cell_type": "code",
   "execution_count": 22,
   "metadata": {},
   "outputs": [
    {
     "name": "stdout",
     "output_type": "stream",
     "text": [
      "Tipo:Blanca Marca:Samsung\n",
      "Tipo:Blanca Marca:LG\n"
     ]
    }
   ],
   "source": [
    "televisor: Televisor = Televisor(tipo = \"Blanca\", marca= \"Samsung\", tamanio= \"50\")\n",
    "lavadora: Lavadora = Lavadora(tipo = \"Blanca\", marca= \"LG\", tipo_carga= \"Frontal\")\n",
    "\n",
    "electrodomesticos: list[Electrodomestico] = [televisor, lavadora]\n",
    "\n",
    "for e in electrodomesticos:\n",
    "    e.encender(encendido=True)\n",
    "    print(e.obtener_info())\n",
    "\n",
    "lavadora.lavar()"
   ]
  }
 ],
 "metadata": {
  "kernelspec": {
   "display_name": "Python 3 (ipykernel)",
   "language": "python",
   "name": "python3"
  },
  "language_info": {
   "codemirror_mode": {
    "name": "ipython",
    "version": 3
   },
   "file_extension": ".py",
   "mimetype": "text/x-python",
   "name": "python",
   "nbconvert_exporter": "python",
   "pygments_lexer": "ipython3",
   "version": "3.12.1"
  }
 },
 "nbformat": 4,
 "nbformat_minor": 2
}
