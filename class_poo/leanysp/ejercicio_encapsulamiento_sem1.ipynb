{
 "cells": [
  {
   "cell_type": "markdown",
   "metadata": {},
   "source": [
    "Ejercicio encapsulamiento: \n",
    "Partiendo del ejercicio de herencia, creo un atributo de instancia privado en la clase Televisor(__lista_apps) y luego creo un metodo para acceder a ese atributo fuera de la clase."
   ]
  },
  {
   "cell_type": "code",
   "execution_count": 2,
   "metadata": {},
   "outputs": [],
   "source": [
    "class Electrodomestico:\n",
    "    def __init__(self, tipo: str, marca: str) -> None:\n",
    "        self.tipo: str = tipo\n",
    "        self.marca: str = marca\n",
    "\n",
    "    def encender(self, encendido:bool) -> None:\n",
    "        if encendido:\n",
    "            print(\"Electrodoméstico Encendido\")\n",
    "        else:\n",
    "            print(\"Electrodoméstico Apagado\")\n",
    "\n",
    "    def obtener_info(self) -> str:\n",
    "        return f\"Tipo:{self.tipo}, Marca:{self.marca}\"\n",
    "\n",
    "\n",
    "class Televisor(Electrodomestico):\n",
    "    def __init__(self, tipo: str, marca: str, tamanio: str):\n",
    "        super().__init__(tipo=tipo, marca=marca)\n",
    "        self.tamanio: str = tamanio\n",
    "        self.__lista_apps = [str]\n",
    "\n",
    "    def agregar_app(self, app: str) -> None:\n",
    "        if app in self.__lista_apps:\n",
    "            print(f\"app {app} no se pudo agregar porque ya existe la app\")\n",
    "        else:\n",
    "            self.__lista_apps.append(app)\n",
    "            print(f\"app {app} agregada a la configuración\")\n",
    "\n",
    "    def listar_app(self) -> str:\n",
    "        return f\"Listado de aplicaciones en el televisor: {self.__lista_apps}\"\n",
    "\n",
    "    def cambiarCanal(self) -> None:\n",
    "        print(\"En el televisor se muestra el canal obtenido\")\n",
    "\n",
    "    def obtener_info(self) -> str:\n",
    "        return f\"{super().obtener_info()}, Tamaño:{self.tamanio}\"\n",
    "\n",
    "\n",
    "class Lavadora(Electrodomestico):\n",
    "    def __init__(self, tipo:str, marca:str, tipo_carga:str) -> None:\n",
    "        super().__init__(tipo=tipo, marca=marca)\n",
    "        self.tipo_carga:str= tipo_carga\n",
    "\n",
    "    def lavar(self, encendido: bool) -> None:\n",
    "        if super().encender(encendido):\n",
    "            print(\"Inicia lavado\")\n",
    "        else:\n",
    "            print(\"Encienda la lavadora para iniciar lavado\")\n",
    "\n",
    "    def obtener_info(self) -> str:\n",
    "        return f\"{super().obtener_info()}, Tipo de carga:{self.tipo_carga}\""
   ]
  },
  {
   "cell_type": "code",
   "execution_count": 3,
   "metadata": {},
   "outputs": [
    {
     "name": "stdout",
     "output_type": "stream",
     "text": [
      "Electrodoméstico Encendido\n",
      "Tipo:Blanca, Marca:Samsung, Tamaño:50\n",
      "Electrodoméstico Encendido\n",
      "Tipo:Blanca, Marca:LG, Tipo de carga:Frontal\n"
     ]
    }
   ],
   "source": [
    "televisor: Televisor = Televisor(tipo = \"Blanca\", marca= \"Samsung\", tamanio= \"50\")\n",
    "lavadora: Lavadora = Lavadora(tipo = \"Blanca\", marca= \"LG\", tipo_carga= \"Frontal\")\n",
    "\n",
    "electrodomesticos: list[Electrodomestico] = [televisor, lavadora]\n",
    "\n",
    "for e in electrodomesticos:\n",
    "    e.encender(encendido=True)\n",
    "    print(e.obtener_info())"
   ]
  },
  {
   "cell_type": "code",
   "execution_count": 4,
   "metadata": {},
   "outputs": [
    {
     "name": "stdout",
     "output_type": "stream",
     "text": [
      "app Disney agregada a la configuración\n",
      "app Netflix agregada a la configuración\n",
      "Listado de aplicaciones en el televisor: [<class 'str'>, 'Disney', 'Netflix']\n"
     ]
    }
   ],
   "source": [
    "televisor.agregar_app(app=\"Disney\")\n",
    "televisor.agregar_app(app=\"Netflix\")\n",
    "print(televisor.listar_app())"
   ]
  }
 ],
 "metadata": {
  "kernelspec": {
   "display_name": "Python 3 (ipykernel)",
   "language": "python",
   "name": "python3"
  },
  "language_info": {
   "codemirror_mode": {
    "name": "ipython",
    "version": 3
   },
   "file_extension": ".py",
   "mimetype": "text/x-python",
   "name": "python",
   "nbconvert_exporter": "python",
   "pygments_lexer": "ipython3",
   "version": "3.12.1"
  }
 },
 "nbformat": 4,
 "nbformat_minor": 2
}
