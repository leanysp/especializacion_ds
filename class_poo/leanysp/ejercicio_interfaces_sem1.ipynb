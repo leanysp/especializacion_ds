{
 "cells": [
  {
   "cell_type": "markdown",
   "metadata": {},
   "source": [
    "Ejercicio Interfaz y Polimorfismo: \n",
    "Se crea una InterfazMusica que contiene dos metodos que implenentan las clases Salsa y Rock los cuales se comportan de manera diferente de acuerdo a su sonido y componentes."
   ]
  },
  {
   "cell_type": "code",
   "execution_count": 1,
   "metadata": {},
   "outputs": [],
   "source": [
    "class InterfazMusica:\n",
    "    def sonar(self) -> str:\n",
    "        raise NotImplementedError(\"Subclass must implement abstract method\")\n",
    "\n",
    "    def componerse(self) -> str:\n",
    "        raise NotImplementedError(\"Subclass must implement abstract method\")\n",
    "\n",
    "\n",
    "class Salsa(InterfazMusica):\n",
    "\n",
    "    def sonar(self) -> str:\n",
    "        return \"La salsa suena alegre y animada\"\n",
    "\n",
    "    def componerse(self) -> str:\n",
    "        return \"La salsa se compone principalmente con trompetas, conga, timbales,maracas\"\n",
    "\n",
    "\n",
    "class Rock(InterfazMusica):\n",
    "\n",
    "    def sonar(self) -> str:\n",
    "        return \"EL sonido del rock es fuerte y ruidoso\"\n",
    "\n",
    "    def componerse(self) -> str:\n",
    "        return \"El rock se compone con la guitarra electrica, batería, bajo electrico, piano electronico\""
   ]
  },
  {
   "cell_type": "code",
   "execution_count": 2,
   "metadata": {},
   "outputs": [
    {
     "name": "stdout",
     "output_type": "stream",
     "text": [
      "La salsa suena alegre y animada y\n",
      "La salsa se compone principalmente con trompetas, conga, timbales,maracas\n",
      "EL sonido del rock es fuerte y ruidoso y\n",
      "El rock se compone con la guitarra electrica, batería, bajo electrico, piano electronico\n"
     ]
    }
   ],
   "source": [
    "def disfrutar_con_musica(musica: InterfazMusica) -> None:\n",
    "    print(musica.sonar() + \" y\")\n",
    "    print(musica.componerse())\n",
    "\n",
    "salsa: Salsa = Salsa()\n",
    "rock: Rock = Rock()\n",
    "\n",
    "disfrutar_con_musica(musica=salsa)\n",
    "disfrutar_con_musica(musica=rock)"
   ]
  }
 ],
 "metadata": {
  "kernelspec": {
   "display_name": "Python 3 (ipykernel)",
   "language": "python",
   "name": "python3"
  },
  "language_info": {
   "codemirror_mode": {
    "name": "ipython",
    "version": 3
   },
   "file_extension": ".py",
   "mimetype": "text/x-python",
   "name": "python",
   "nbconvert_exporter": "python",
   "pygments_lexer": "ipython3",
   "version": "3.12.1"
  }
 },
 "nbformat": 4,
 "nbformat_minor": 2
}
