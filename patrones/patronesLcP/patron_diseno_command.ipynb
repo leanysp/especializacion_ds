{
 "cells": [
  {
   "cell_type": "markdown",
   "metadata": {},
   "source": [
    "    # Patron de diseño Command"
   ]
  },
  {
   "cell_type": "markdown",
   "metadata": {},
   "source": [
    "Se crea una interfaz Notificacion para ejecutar los comandos de Email y SMS para el envío de mensajes,\n",
    "las clases receptoras Email y SMS para la lógica de envio de mensajes,\n",
    "las clases command EmailNotificacion y SMSNotificacion que implementan la interfaz Notificacion,\n",
    "una clase invocadora NotificacionService que se encarga de agregar los comandos de notificaciones y ejecutarlos"
   ]
  },
  {
   "cell_type": "markdown",
   "metadata": {},
   "source": [
    "Interfaz Command"
   ]
  },
  {
   "cell_type": "code",
   "execution_count": 1,
   "metadata": {},
   "outputs": [],
   "source": [
    "from abc import ABC, abstractmethod\n",
    "\n",
    "class Notificacion(ABC):\n",
    "    def enviarNotificacion(self, mensaje: str) -> None:\n",
    "        pass"
   ]
  },
  {
   "cell_type": "markdown",
   "metadata": {},
   "source": [
    "Clases receptoras"
   ]
  },
  {
   "cell_type": "code",
   "execution_count": 2,
   "metadata": {},
   "outputs": [],
   "source": [
    "class Email:\n",
    "    def enviarEmail(self, mensaje: str) -> None:\n",
    "        print('Enviando mensaje por Email:', mensaje)\n",
    "\n",
    "class SMS:\n",
    "    def enviarSms(self, mensaje: str) -> None:\n",
    "        print('Enviando mensaje por SMS:', mensaje)"
   ]
  },
  {
   "cell_type": "markdown",
   "metadata": {},
   "source": [
    "Clases Command"
   ]
  },
  {
   "cell_type": "code",
   "execution_count": 3,
   "metadata": {},
   "outputs": [],
   "source": [
    "class EmailNotificacion(Notificacion):\n",
    "    def __init__(self, email:Email) -> None:\n",
    "        self.email = email\n",
    "    def enviarNotificacion(self, mensaje:str) -> None:\n",
    "        self.email.enviarEmail(mensaje)\n",
    "\n",
    "class SMSNotificacion(Notificacion):\n",
    "    def __init__(self, sms:SMS)-> None:\n",
    "        self.sms = sms\n",
    "    def enviarNotificacion(self, mensaje:str) -> None:\n",
    "        self.sms.enviarSms(mensaje)"
   ]
  },
  {
   "cell_type": "markdown",
   "metadata": {},
   "source": [
    "Clase invocadora"
   ]
  },
  {
   "cell_type": "code",
   "execution_count": 7,
   "metadata": {},
   "outputs": [],
   "source": [
    "class NotificacionService:\n",
    "    def __init__(self) -> None:\n",
    "        self._notificaciones: list[Notificacion] = []\n",
    "    def agregar_notificacion(self, notification: Notificacion) -> None:\n",
    "        self._notificaciones.append(notification)\n",
    "    def enviar_notificaciones(self, mensaje: str) -> None:\n",
    "        for notificacion in self._notificaciones:\n",
    "            notificacion.enviarNotificacion(mensaje)"
   ]
  },
  {
   "cell_type": "markdown",
   "metadata": {},
   "source": [
    "Uso del patrón"
   ]
  },
  {
   "cell_type": "code",
   "execution_count": 12,
   "metadata": {},
   "outputs": [
    {
     "name": "stdout",
     "output_type": "stream",
     "text": [
      "Enviando mensaje por Email: Mensaje para prueba de envio de notificaciones\n",
      "Enviando mensaje por SMS: Mensaje para prueba de envio de notificaciones\n"
     ]
    }
   ],
   "source": [
    "email: Email = Email()\n",
    "sms: SMS = SMS()\n",
    "email_notificacion: EmailNotificacion = EmailNotificacion(email)\n",
    "sms_notificacion: SMSNotificacion = SMSNotificacion(sms)\n",
    "service: NotificacionService = NotificacionService()\n",
    "service.agregar_notificacion(email_notificacion)\n",
    "service.agregar_notificacion(sms_notificacion)\n",
    "service.enviar_notificaciones('Mensaje para prueba de envio de notificaciones')"
   ]
  }
 ],
 "metadata": {
  "kernelspec": {
   "display_name": "Python 3 (ipykernel)",
   "language": "python",
   "name": "python3"
  },
  "language_info": {
   "codemirror_mode": {
    "name": "ipython",
    "version": 3
   },
   "file_extension": ".py",
   "mimetype": "text/x-python",
   "name": "python",
   "nbconvert_exporter": "python",
   "pygments_lexer": "ipython3",
   "version": "3.12.1"
  }
 },
 "nbformat": 4,
 "nbformat_minor": 2
}
