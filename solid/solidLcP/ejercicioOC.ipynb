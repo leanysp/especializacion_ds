{
 "cells": [
  {
   "cell_type": "markdown",
   "metadata": {},
   "source": [
    "Ejercicio 2 open close:\n",
    "Incorrecto\n",
    "Si quiero imprimir el resultado de una múltiplicación el resultado será un valor equivocado porque no existe en el código dicha operación, para esto debo modificar la clase Operación en el método realizar_operacion agregando la operación que se necesita "
   ]
  },
  {
   "cell_type": "code",
   "execution_count": 2,
   "metadata": {},
   "outputs": [],
   "source": [
    "class Operation:\n",
    "    def __init__(self, type_operation: str, num1:int, num2:int)-> None:\n",
    "        self.num1:int = num1\n",
    "        self.num2:int = num2\n",
    "        self.type_operation:int = type_operation\n",
    "\n",
    "\n",
    "    def realizar_operacion(self)-> int:\n",
    "        if self.type_operation == \"suma\":\n",
    "            return self.num1 + self.num2\n",
    "        elif self.type_operation == \"resta\":\n",
    "            return self.num1 - self.num2\n",
    "        else:\n",
    "            return 0"
   ]
  },
  {
   "cell_type": "code",
   "execution_count": 3,
   "metadata": {},
   "outputs": [
    {
     "ename": "NameError",
     "evalue": "name 'multiplicacion' is not defined",
     "output_type": "error",
     "traceback": [
      "\u001b[0;31m---------------------------------------------------------------------------\u001b[0m",
      "\u001b[0;31mNameError\u001b[0m                                 Traceback (most recent call last)",
      "Cell \u001b[0;32mIn[3], line 3\u001b[0m\n\u001b[1;32m      1\u001b[0m suma \u001b[38;5;241m=\u001b[39m Operation(type_operation \u001b[38;5;241m=\u001b[39m \u001b[38;5;124m\"\u001b[39m\u001b[38;5;124msuma\u001b[39m\u001b[38;5;124m\"\u001b[39m, num1 \u001b[38;5;241m=\u001b[39m \u001b[38;5;241m5\u001b[39m, num2 \u001b[38;5;241m=\u001b[39m \u001b[38;5;241m2\u001b[39m)\n\u001b[1;32m      2\u001b[0m resta \u001b[38;5;241m=\u001b[39m Operation(type_operation \u001b[38;5;241m=\u001b[39m \u001b[38;5;124m\"\u001b[39m\u001b[38;5;124mresta\u001b[39m\u001b[38;5;124m\"\u001b[39m, num1 \u001b[38;5;241m=\u001b[39m \u001b[38;5;241m5\u001b[39m, num2 \u001b[38;5;241m=\u001b[39m \u001b[38;5;241m2\u001b[39m)\n\u001b[0;32m----> 3\u001b[0m operations: \u001b[38;5;28mlist\u001b[39m[Operation]\u001b[38;5;241m=\u001b[39m[suma, \u001b[43mmultiplicacion\u001b[49m ]\n\u001b[1;32m      4\u001b[0m \u001b[38;5;28;01mfor\u001b[39;00m operation \u001b[38;5;129;01min\u001b[39;00m operations:\n\u001b[1;32m      5\u001b[0m     \u001b[38;5;28mprint\u001b[39m (\u001b[38;5;124mf\u001b[39m\u001b[38;5;124m\"\u001b[39m\u001b[38;5;124mResultado = \u001b[39m\u001b[38;5;132;01m{\u001b[39;00moperation\u001b[38;5;241m.\u001b[39mrealizar_operacion()\u001b[38;5;132;01m}\u001b[39;00m\u001b[38;5;124m\"\u001b[39m)\n",
      "\u001b[0;31mNameError\u001b[0m: name 'multiplicacion' is not defined"
     ]
    }
   ],
   "source": [
    "suma = Operation(type_operation = \"suma\", num1 = 5, num2 = 2)\n",
    "resta = Operation(type_operation = \"resta\", num1 = 5, num2 = 2)\n",
    "operations: list[Operation]=[suma, multiplicacion ]\n",
    "for operation in operations:\n",
    "    print (f\"Resultado = {operation.realizar_operacion()}\")\n"
   ]
  },
  {
   "cell_type": "markdown",
   "metadata": {},
   "source": [
    "ejercicio uso correcto\n",
    "si necesito agregar una nueva operación debo crear una clase hija que herede de Operación "
   ]
  },
  {
   "cell_type": "code",
   "execution_count": 12,
   "metadata": {},
   "outputs": [],
   "source": [
    "class Operation:\n",
    "    def __init__(self, num1:int, num2:int)-> None:\n",
    "        self.num1:int = num1\n",
    "        self.num2:int = num2\n",
    "\n",
    "    def realizar_operacion(self)-> int:\n",
    "        pass\n",
    "\n",
    "class Suma(Operation):\n",
    "    def realizar_operacion(self)-> int:\n",
    "        return self.num1 + self.num2\n",
    "\n",
    "class Resta(Operation):\n",
    "    def realizar_operacion(self)-> int:\n",
    "        return self.num1 - self.num2\n"
   ]
  },
  {
   "cell_type": "code",
   "execution_count": 14,
   "metadata": {},
   "outputs": [
    {
     "name": "stdout",
     "output_type": "stream",
     "text": [
      "El resultado de la operación es: 12\n",
      "El resultado de la operación es: 0\n"
     ]
    }
   ],
   "source": [
    "suma: Suma = Suma(num1= 5, num2=7)\n",
    "resta: Resta = Resta(num1= 5, num2=5)\n",
    "\n",
    "operations: list[Operation] = [suma, resta]\n",
    "\n",
    "for operation in operations:\n",
    "    operation = operation.realizar_operacion()\n",
    "    print(f\"El resultado de la operación es: {operation}\")\n"
   ]
  }
 ],
 "metadata": {
  "kernelspec": {
   "display_name": "Python 3 (ipykernel)",
   "language": "python",
   "name": "python3"
  }
 },
 "nbformat": 4,
 "nbformat_minor": 2
}
