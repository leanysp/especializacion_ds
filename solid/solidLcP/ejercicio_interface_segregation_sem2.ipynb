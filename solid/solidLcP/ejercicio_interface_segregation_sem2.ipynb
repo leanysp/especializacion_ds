{
 "cells": [
  {
   "cell_type": "markdown",
   "metadata": {},
   "source": [
    "Ejercicio 4\n",
    "segregación de interfaz\n",
    "\n",
    "La impresora clásica solo imprime, pero debe implementar los metodos que no utiliza, por lo tanto viola el principio"
   ]
  },
  {
   "cell_type": "code",
   "execution_count": 27,
   "metadata": {},
   "outputs": [],
   "source": [
    "from abc import ABC, abstractmethod\n",
    "\n",
    "class Impresora(ABC):\n",
    "    @abstractmethod\n",
    "    def printer(self) -> None:\n",
    "        pass\n",
    "\n",
    "    @abstractmethod\n",
    "    def scan(self) -> None:\n",
    "        pass\n",
    "\n",
    "    @abstractmethod\n",
    "    def copy(self) -> None:\n",
    "        pass\n",
    "\n",
    "\n",
    "class Multifuncional(Impresora):\n",
    "    def printer(self)-> None:\n",
    "        print(\"imprimiendo documento\")\n",
    "\n",
    "    def scan(self) -> None:\n",
    "        print(\"Escaneando documento\")\n",
    "\n",
    "    def copy(self) -> None:\n",
    "        print(\"fotocopiando documento\")\n",
    "\n",
    "\n",
    "class Clasica(Impresora):\n",
    "    def printer(self) -> None:\n",
    "        print(\"imprimiendo documento\")\n",
    "\n",
    "    def scan(self) -> None:\n",
    "        pass\n",
    "\n",
    "    def copy(self) -> None:\n",
    "        pass\n"
   ]
  },
  {
   "cell_type": "code",
   "execution_count": 28,
   "metadata": {},
   "outputs": [
    {
     "name": "stdout",
     "output_type": "stream",
     "text": [
      "imprimiendo documento\n",
      "imprimiendo documento\n",
      "Escaneando documento\n",
      "fotocopiando documento\n"
     ]
    }
   ],
   "source": [
    "clasica = Clasica()\n",
    "clasica.printer()\n",
    "clasica.scan()\n",
    "clasica.copy()\n",
    "\n",
    "multifuncional = Multifuncional()\n",
    "multifuncional.printer()\n",
    "multifuncional.scan()\n",
    "multifuncional.copy()"
   ]
  },
  {
   "cell_type": "markdown",
   "metadata": {},
   "source": [
    "Aplicando el principio, la clase Clasica solo implementa el metodo que necesita, en este caso printer"
   ]
  },
  {
   "cell_type": "code",
   "execution_count": 29,
   "metadata": {},
   "outputs": [],
   "source": [
    "from abc import ABC, abstractmethod\n",
    "\n",
    "class Printer(ABC):\n",
    "    @abstractmethod\n",
    "    def printer(self) -> None:\n",
    "        pass\n",
    "\n",
    "class Scanner(ABC):\n",
    "    @abstractmethod\n",
    "    def scan(self) -> None:\n",
    "        pass\n",
    "\n",
    "\n",
    "class Copier(ABC):\n",
    "    @abstractmethod\n",
    "    def copy(self) -> None:\n",
    "        pass\n",
    "\n",
    "\n",
    "class Multifuncional(Printer,Scanner,Copier):\n",
    "    def printer(self)-> None:\n",
    "        print(\"imprimiendo documento\")\n",
    "\n",
    "    def scan(self) -> None:\n",
    "        print(\"Escaneando documento\")\n",
    "\n",
    "    def copy(self) -> None:\n",
    "        print(\"fotocopiando documento\")\n",
    "\n",
    "\n",
    "class Clasica(Printer):\n",
    "    def printer(self) -> None:\n",
    "        print(\"imprimiendo documento\")"
   ]
  },
  {
   "cell_type": "code",
   "execution_count": 30,
   "metadata": {},
   "outputs": [
    {
     "name": "stdout",
     "output_type": "stream",
     "text": [
      "imprimiendo documento\n",
      "imprimiendo documento\n",
      "Escaneando documento\n",
      "fotocopiando documento\n"
     ]
    }
   ],
   "source": [
    "clasica = Clasica()\n",
    "clasica.printer()\n",
    "\n",
    "multifuncional = Multifuncional()\n",
    "multifuncional.printer()\n",
    "multifuncional.scan()\n",
    "multifuncional.copy()"
   ]
  }
 ],
 "metadata": {
  "kernelspec": {
   "display_name": "Python 3 (ipykernel)",
   "language": "python",
   "name": "python3"
  },
  "language_info": {
   "codemirror_mode": {
    "name": "ipython",
    "version": 3
   },
   "file_extension": ".py",
   "mimetype": "text/x-python",
   "name": "python",
   "nbconvert_exporter": "python",
   "pygments_lexer": "ipython3",
   "version": "3.12.1"
  }
 },
 "nbformat": 4,
 "nbformat_minor": 2
}
