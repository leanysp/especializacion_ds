{
 "cells": [
  {
   "cell_type": "markdown",
   "metadata": {},
   "source": [
    "Ejercicio 5\n",
    "inversión de dependencia: \n",
    "Se viola el principio porque si se necesita imprimir desde la clase Computador a color, esta se debe modificar ya que depende de la clase BlancoNegro"
   ]
  },
  {
   "cell_type": "code",
   "execution_count": 1,
   "metadata": {},
   "outputs": [],
   "source": [
    "class BlancoNegro:\n",
    "    def imprimir_blanco_negro(self)-> None:\n",
    "        print(\"imprimiendo a blanco y negro\")\n",
    "\n",
    "class Computador:\n",
    "    def imprimir(self,imp:BlancoNegro)-> None:\n",
    "        imp.imprimir_blanco_negro()"
   ]
  },
  {
   "cell_type": "code",
   "execution_count": 2,
   "metadata": {},
   "outputs": [
    {
     "name": "stdout",
     "output_type": "stream",
     "text": [
      "imprimiendo a blanco y negro\n"
     ]
    }
   ],
   "source": [
    "bn = BlancoNegro()\n",
    "comp = Computador()\n",
    "comp.imprimir(bn)"
   ]
  },
  {
   "cell_type": "markdown",
   "metadata": {},
   "source": [
    "Uso del principio: \n",
    "si se necesita imprimir a color, en este caso como Computador depende de la interfaz Impresora y no de las clases concretas BlancoNegro y Color, permitiría implementar la nueva forma de imprimir sin modificar la clase Computador."
   ]
  },
  {
   "cell_type": "code",
   "execution_count": 6,
   "metadata": {},
   "outputs": [],
   "source": [
    "from abc import ABC, abstractmethod\n",
    "\n",
    "class Impresora(ABC):\n",
    "    @abstractmethod\n",
    "    def imprimir(self)-> None:\n",
    "        pass\n",
    "\n",
    "class BlancoNegro(Impresora):\n",
    "    def imprimir(self)-> None:\n",
    "        print(\"imprimiendo a blanco y negro\")\n",
    "\n",
    "class Color(Impresora):\n",
    "    def imprimir(self)-> None:\n",
    "        print(\"imprimiendo a color\")\n",
    "\n",
    "class Computador:\n",
    "    def imprimir(self,imp:Impresora)-> None:\n",
    "        imp.imprimir()"
   ]
  },
  {
   "cell_type": "code",
   "execution_count": 9,
   "metadata": {},
   "outputs": [
    {
     "name": "stdout",
     "output_type": "stream",
     "text": [
      "imprimiendo a blanco y negro\n",
      "imprimiendo a color\n"
     ]
    }
   ],
   "source": [
    "bn = BlancoNegro()\n",
    "color = Color()\n",
    "pc = Computador()\n",
    "\n",
    "impresoras: list[Impresora] =[bn,color]\n",
    "\n",
    "for impresora in impresoras:\n",
    "    pc.imprimir(impresora)"
   ]
  }
 ],
 "metadata": {
  "kernelspec": {
   "display_name": "Python 3 (ipykernel)",
   "language": "python",
   "name": "python3"
  },
  "language_info": {
   "codemirror_mode": {
    "name": "ipython",
    "version": 3
   },
   "file_extension": ".py",
   "mimetype": "text/x-python",
   "name": "python",
   "nbconvert_exporter": "python",
   "pygments_lexer": "ipython3",
   "version": "3.12.1"
  }
 },
 "nbformat": 4,
 "nbformat_minor": 2
}
