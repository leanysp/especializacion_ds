{
 "cells": [
  {
   "cell_type": "markdown",
   "metadata": {},
   "source": [
    "Ejercicio 3\n",
    "Principio Liskov"
   ]
  },
  {
   "cell_type": "code",
   "execution_count": 4,
   "metadata": {},
   "outputs": [],
   "source": [
    "class Telefono:\n",
    "    def __init__(self, num_telefono:str, tipo_telefono:str)-> None:\n",
    "        self.num_telefono: str = num_telefono\n",
    "        self.tipo_telefono: str = tipo_telefono\n",
    "\n",
    "\n",
    "    def llamar(self)-> str:\n",
    "        return f\"Realizando llamada desde un {self.ipo_telefono}\"\n",
    "\n",
    "\n",
    "class Celular(Telefono):\n",
    "    def llamar(self)-> str:\n",
    "        minutos:int = 0\n",
    "        for i in range(10):\n",
    "            minutos+=i\n",
    "        return f\"Realizando llamada desde un {self.tipo_telefono} y duración {minutos}\"\n",
    "\n",
    "\n",
    "class TelefonoFijo(Telefono):\n",
    "    def llamar(self)-> str:\n",
    "        return f\"Realizando llamada desde un {self.tipo_telefono} al número {self.num_telefono}\"\n",
    "\n",
    "\n",
    "\n",
    "class Usuario:\n",
    "    def hacer_llamada(self,tel:Telefono)-> str:\n",
    "        return f\"{tel.llamar()}\"\n"
   ]
  },
  {
   "cell_type": "code",
   "execution_count": 5,
   "metadata": {},
   "outputs": [
    {
     "name": "stdout",
     "output_type": "stream",
     "text": [
      "Realizando llamada desde un Telefono Celular al número 3123467\n",
      "Realizando llamada desde un Celular y duración 45\n"
     ]
    }
   ],
   "source": [
    "tel_fijo:TelefonoFijo = TelefonoFijo(\"3123467\",\"Telefono Celular\")\n",
    "cel: Celular = Celular(\"3124543465\", \"Celular\")\n",
    "\n",
    "telefonos: list[Telefono] = [tel_fijo, cel]\n",
    "\n",
    "for telefono in telefonos:\n",
    "   usuario: Usuario=Usuario()\n",
    "   print(usuario.hacer_llamada(telefono))\n",
    "\n"
   ]
  },
  {
   "cell_type": "markdown",
   "metadata": {},
   "source": [
    "Violación de principio ya que el metodo de la clase base no maneja errores"
   ]
  },
  {
   "cell_type": "code",
   "execution_count": 7,
   "metadata": {},
   "outputs": [],
   "source": [
    "class Tablet(Telefono):\n",
    "    def llamar(self) -> str:\n",
    "        raise ValueError(\"No se puede realizar llamada desde la tablet\")"
   ]
  },
  {
   "cell_type": "code",
   "execution_count": 8,
   "metadata": {},
   "outputs": [
    {
     "ename": "ValueError",
     "evalue": "No se puede realizar llamada desde la tablet",
     "output_type": "error",
     "traceback": [
      "\u001b[0;31m---------------------------------------------------------------------------\u001b[0m",
      "\u001b[0;31mValueError\u001b[0m                                Traceback (most recent call last)",
      "Cell \u001b[0;32mIn[8], line 7\u001b[0m\n\u001b[1;32m      5\u001b[0m \u001b[38;5;28;01mfor\u001b[39;00m telefono \u001b[38;5;129;01min\u001b[39;00m telefonos:\n\u001b[1;32m      6\u001b[0m    usuario: Usuario\u001b[38;5;241m=\u001b[39mUsuario()\n\u001b[0;32m----> 7\u001b[0m    \u001b[38;5;28mprint\u001b[39m(\u001b[43musuario\u001b[49m\u001b[38;5;241;43m.\u001b[39;49m\u001b[43mhacer_llamada\u001b[49m\u001b[43m(\u001b[49m\u001b[43mtelefono\u001b[49m\u001b[43m)\u001b[49m)\n",
      "Cell \u001b[0;32mIn[4], line 27\u001b[0m, in \u001b[0;36mUsuario.hacer_llamada\u001b[0;34m(self, tel)\u001b[0m\n\u001b[1;32m     26\u001b[0m \u001b[38;5;28;01mdef\u001b[39;00m \u001b[38;5;21mhacer_llamada\u001b[39m(\u001b[38;5;28mself\u001b[39m,tel:Telefono)\u001b[38;5;241m-\u001b[39m\u001b[38;5;241m>\u001b[39m \u001b[38;5;28mstr\u001b[39m:\n\u001b[0;32m---> 27\u001b[0m     \u001b[38;5;28;01mreturn\u001b[39;00m \u001b[38;5;124mf\u001b[39m\u001b[38;5;124m\"\u001b[39m\u001b[38;5;132;01m{\u001b[39;00m\u001b[43mtel\u001b[49m\u001b[38;5;241;43m.\u001b[39;49m\u001b[43mllamar\u001b[49m\u001b[43m(\u001b[49m\u001b[43m)\u001b[49m\u001b[38;5;132;01m}\u001b[39;00m\u001b[38;5;124m\"\u001b[39m\n",
      "Cell \u001b[0;32mIn[7], line 3\u001b[0m, in \u001b[0;36mTablet.llamar\u001b[0;34m(self)\u001b[0m\n\u001b[1;32m      2\u001b[0m \u001b[38;5;28;01mdef\u001b[39;00m \u001b[38;5;21mllamar\u001b[39m(\u001b[38;5;28mself\u001b[39m) \u001b[38;5;241m-\u001b[39m\u001b[38;5;241m>\u001b[39m \u001b[38;5;28mstr\u001b[39m:\n\u001b[0;32m----> 3\u001b[0m     \u001b[38;5;28;01mraise\u001b[39;00m \u001b[38;5;167;01mValueError\u001b[39;00m(\u001b[38;5;124m\"\u001b[39m\u001b[38;5;124mNo se puede realizar llamada desde la tablet\u001b[39m\u001b[38;5;124m\"\u001b[39m)\n",
      "\u001b[0;31mValueError\u001b[0m: No se puede realizar llamada desde la tablet"
     ]
    }
   ],
   "source": [
    "tablet: Tablet = Tablet(\"3124543465\", \"Tablet\")\n",
    "\n",
    "telefonos: list[Telefono] = [tablet]\n",
    "\n",
    "for telefono in telefonos:\n",
    "   usuario: Usuario=Usuario()\n",
    "   print(usuario.hacer_llamada(telefono))"
   ]
  }
 ],
 "metadata": {
  "kernelspec": {
   "display_name": "Python 3 (ipykernel)",
   "language": "python",
   "name": "python3"
  }
 },
 "nbformat": 4,
 "nbformat_minor": 2
}
