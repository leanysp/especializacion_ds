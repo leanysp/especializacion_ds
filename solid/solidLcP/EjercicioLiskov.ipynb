{
 "cells": [
  {
   "cell_type": "markdown",
   "metadata": {},
   "source": [
    "Ejercicio 3\n",
    "Principio Liskov"
   ]
  },
  {
   "cell_type": "code",
   "execution_count": 21,
   "metadata": {},
   "outputs": [],
   "source": [
    "class Telefono:\n",
    "    def __init__(self, num_telefono:str)-> None:\n",
    "        self.num_telefono: str = num_telefono\n",
    "\n",
    "    def llamar(self)-> str:\n",
    "        return f\"Realizando llamada al número de teléfono {self.num_telefono}\"\n",
    "\n",
    "\n",
    "class Celular(Telefono):\n",
    "    def llamar(self)-> int:\n",
    "        minutos:int = 0\n",
    "        for i in range(10):\n",
    "            minutos+=i\n",
    "        return f\"Realizando llamada al número de teléfono {self.num_telefono} y duración {minutos}\"\n",
    "\n",
    "\n",
    "class Usuario:\n",
    "    def __init__(self, tel: Telefono) -> None:\n",
    "        self.tel: Telefono = tel\n",
    "\n",
    "    def llamar(self) -> str:\n",
    "        return self.tel.llamar()"
   ]
  },
  {
   "cell_type": "code",
   "execution_count": 22,
   "metadata": {},
   "outputs": [
    {
     "name": "stdout",
     "output_type": "stream",
     "text": [
      "Realizando llamada al número de teléfono 3123467\n",
      "Realizando llamada al número de teléfono 3124543465 y duración 45\n"
     ]
    }
   ],
   "source": [
    "tel: Telefono=Telefono(\"3123467\")\n",
    "cel: Celular=Celular(\"3124543465\")\n",
    "\n",
    "print(llamar(tel))\n",
    "print(llamar(cel))\n"
   ]
  }
 ],
 "metadata": {
  "kernelspec": {
   "display_name": "Python 3 (ipykernel)",
   "language": "python",
   "name": "python3"
  },
  "language_info": {
   "codemirror_mode": {
    "name": "ipython",
    "version": 3
   },
   "file_extension": ".py",
   "mimetype": "text/x-python",
   "name": "python",
   "nbconvert_exporter": "python",
   "pygments_lexer": "ipython3",
   "version": "3.12.1"
  }
 },
 "nbformat": 4,
 "nbformat_minor": 2
}
