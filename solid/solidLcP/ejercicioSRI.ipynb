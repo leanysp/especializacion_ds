{
 "cells": [
  {
   "cell_type": "markdown",
   "metadata": {},
   "source": [
    "Ejercicio 1"
   ]
  },
  {
   "cell_type": "code",
   "execution_count": 1,
   "metadata": {},
   "outputs": [],
   "source": [
    "class Otp:\n",
    "    def __init__(self, otp: int, correo: str) -> None:\n",
    "        self.otp: int =otp\n",
    "        self.correo: str = correo\n",
    "\n",
    "    def generate_otp(self) -> int:\n",
    "        return f\"El codigo OTP generado es: {self.otp}\"\n",
    "\n",
    "    def send_otp(self)-> None:\n",
    "        print(f\"Se envió la Otp con exito al correo {self.correo}\")"
   ]
  },
  {
   "cell_type": "code",
   "execution_count": 3,
   "metadata": {},
   "outputs": [],
   "source": [
    "class Otp:\n",
    "    def __init__(self, otp: int)-> None:\n",
    "        self.otp: int= otp\n",
    "\n",
    "    def generate_otp(self) -> int:\n",
    "        return f\"El codigo OTP generado es: {self.otp}\"\n",
    "\n",
    "\n",
    "class Notification:\n",
    "    def __init__(self, otp: Otp, correo: str)-> None:\n",
    "        self.otp: int= otp\n",
    "        self.correo: str= otp\n",
    "\n",
    "    def send_otp(self)-> None:\n",
    "        print(f\"otp {self.otp} enviado por correo a {self.correo}\")"
   ]
  }
 ],
 "metadata": {
  "kernelspec": {
   "display_name": "Python 3 (ipykernel)",
   "language": "python",
   "name": "python3"
  },
  "language_info": {
   "codemirror_mode": {
    "name": "ipython",
    "version": 3
   },
   "file_extension": ".py",
   "mimetype": "text/x-python",
   "name": "python",
   "nbconvert_exporter": "python",
   "pygments_lexer": "ipython3",
   "version": "3.12.1"
  }
 },
 "nbformat": 4,
 "nbformat_minor": 2
}
